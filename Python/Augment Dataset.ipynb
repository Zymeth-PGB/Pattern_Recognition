{
 "cells": [
  {
   "cell_type": "code",
   "execution_count": 1,
   "metadata": {},
   "outputs": [],
   "source": [
    "import os\n",
    "import numpy as np\n",
    "import pandas as pd\n",
    "from PIL import Image\n",
    "from tqdm import tqdm\n",
    "from joblib import Parallel, delayed\n",
    "jobs = 4\n",
    "\n",
    "from change_dilation_v2 import change_dilation"
   ]
  },
  {
   "cell_type": "code",
   "execution_count": 2,
   "metadata": {},
   "outputs": [],
   "source": [
    "# I/O folders\n",
    "dataset_dir = '../samples/'\n",
    "outout_dir  = '../results/'\n",
    "\n",
    "if not os.path.exists(outout_dir):\n",
    "    os.makedirs(outout_dir)\n",
    "\n",
    "# Read segmentation data\n",
    "df = pd.read_csv(dataset_dir + 'segm.csv')\n",
    "files = list(df[\"ID\"])\n",
    "data = df.drop(columns=['ID']).to_numpy()\n",
    "\n",
    "# Output Dilations\n",
    "dils = np.linspace(0.15, 0.75, 10)"
   ]
  },
  {
   "cell_type": "code",
   "execution_count": 3,
   "metadata": {},
   "outputs": [],
   "source": [
    "def augment(j):\n",
    "    # Get output dilation\n",
    "    dil = dils[j]\n",
    "    \n",
    "    # Get output file name\n",
    "    opt_file_name = '{}_{:02d}.png'.format(ID, j)\n",
    "    opt_file_name = os.path.join(outout_dir, opt_file_name)\n",
    "    \n",
    "    # Change dilation and save\n",
    "    im2 = change_dilation(im1, dil, pupil_xyr, iris_xyr)\n",
    "    im2.save(opt_file_name)"
   ]
  },
  {
   "cell_type": "code",
   "execution_count": 4,
   "metadata": {},
   "outputs": [
    {
     "name": "stderr",
     "output_type": "stream",
     "text": [
      "100%|████████████████████████████████████████████████████████████████| 6/6 [00:03<00:00,  1.83it/s]\n"
     ]
    }
   ],
   "source": [
    "for i, name in enumerate(tqdm(files)):\n",
    "    # Get file name and input image\n",
    "    ID = name.split('.')[0]\n",
    "    filename = os.path.join(dataset_dir, name)\n",
    "    im1 = Image.open(filename)\n",
    "    \n",
    "    # Obtain segmentation data\n",
    "    pupil_xyr = data[i, 0:3]\n",
    "    iris_xyr  = data[i, 3:6]\n",
    "    \n",
    "    # Make data augmentations in parallel\n",
    "    Parallel(n_jobs = jobs)(\n",
    "        delayed(augment)(j)\n",
    "        for j in range(len(dils))\n",
    "    )\n",
    "        "
   ]
  },
  {
   "cell_type": "code",
   "execution_count": null,
   "metadata": {},
   "outputs": [],
   "source": []
  }
 ],
 "metadata": {
  "kernelspec": {
   "display_name": "Python 3",
   "language": "python",
   "name": "python3"
  },
  "language_info": {
   "codemirror_mode": {
    "name": "ipython",
    "version": 3
   },
   "file_extension": ".py",
   "mimetype": "text/x-python",
   "name": "python",
   "nbconvert_exporter": "python",
   "pygments_lexer": "ipython3",
   "version": "3.7.9"
  }
 },
 "nbformat": 4,
 "nbformat_minor": 4
}
